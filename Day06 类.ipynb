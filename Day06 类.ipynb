{
 "cells": [
  {
   "cell_type": "markdown",
   "metadata": {},
   "source": [
    "# Day06 类"
   ]
  },
  {
   "cell_type": "markdown",
   "metadata": {},
   "source": [
    "## 1.创建和使用类 "
   ]
  },
  {
   "cell_type": "code",
   "execution_count": null,
   "metadata": {},
   "outputs": [],
   "source": [
    "使用类几乎可以模拟任何东西。下面来编写一个表示小狗的简单类Dog—它表示的不是特定的小狗，而是任何小狗。\n",
    "对于大多数宠物狗，我们都知道些什么呢？它们都有名字和年龄；我们还知道，大多数小狗还会蹲下和打滚。\n",
    "\n",
    "由于大多数小狗都具备上述两项信息（名字和年龄）和两种行为（蹲下和打滚），我们的Dog类将包含它们。\n",
    "这个类让Python知道如何创建表示小狗的对象。\n",
    "\n",
    "编写这个类后，我们将使用它来创建表示特定小狗的实例。\n"
   ]
  },
  {
   "cell_type": "markdown",
   "metadata": {},
   "source": [
    "——创建Dog类\n",
    "\n",
    "根据Dog类创建的每个实例都将存储名字和年龄。\n",
    "我么赋予了每条小狗蹲下(sit())和打滚（roll_over())的能力："
   ]
  },
  {
   "cell_type": "code",
   "execution_count": 2,
   "metadata": {},
   "outputs": [],
   "source": [
    "class Dog():\n",
    "    \"\"\"一次模拟小狗的简单尝试\"\"\"\n",
    "    def __init__(self,name,age):\n",
    "        \"\"\"初始化属性name和age\"\"\"\n",
    "        self.name = name\n",
    "        self.age = age\n",
    "    def sit(self):\n",
    "        \"\"\"模拟小狗被命令时蹲下\"\"\"\n",
    "        print(self.name.title() + \", is now sitting.\")\n",
    "    def roll_over(self):\n",
    "        \"\"\"模拟小狗被命令时打滚\"\"\"\n",
    "        print(self.name.title() + \"rolled over!\")"
   ]
  },
  {
   "cell_type": "markdown",
   "metadata": {},
   "source": [
    "在第一行代码处，我们定义了一个名为Dog的类。在python中，首字母大写的名称指的就是类。\n",
    "\n",
    "这个类定义中的括号是空的，因为我们要从空白创建这个类。第二行代码处，我们编写了一个文档字符串，对这个类的功能做了描述。\n",
    "\n"
   ]
  },
  {
   "cell_type": "markdown",
   "metadata": {},
   "source": [
    "###  —方法   __init__()\n",
    "\n",
    "类中的函数我们称为方法；前面学到的有关函数的一切都适用于方法，但是重要的差别是调用方法的方式。\n",
    "\n",
    "第三行代码处的方法是 __init__()是一个特殊的方法，每当根据Dog类创建新实例时，Python都会自动运行它。在这个方法的名称中，开头和末尾各有两个下划线，这是一种约定，为了避免Python默认方法与普通方法发生名称冲突。\n"
   ]
  },
  {
   "cell_type": "markdown",
   "metadata": {},
   "source": [
    "###  在第三行代码，方法 __init__()定义包含三个形参：self、name和age。这个定义形参self必不可少，必须在其他形参的前面\n",
    "\n",
    "Python调用__init__()方法创建Dog实例时，会自动传入实参self。每个与类相关联的方法调用都会自动传递实参self,它是一个指向实例本身的引用，让实例能够访问类中的属性和方法。\n",
    "\n",
    "创建Dog实例时，Python将调用Dog类的方法 __init__()，我们将通过实参向Dog()传递名字和年龄；self会自动传递，因此我们不需要传递它。每当我们根据Dog类创建实例时，都只需要给最后两个形参name和age提供值。\n",
    "\n",
    "第五行代码处定义的两个变量都有前缀self，以self为前缀的变量都可供类中的所有方法使用，可以通过类的任何实例来访问这些变量，这种通过实例访问的变量称为属性。Dog类还定义了另外两个方法：sit()和roll_over(),它们没有别的信息，所有只有一个形参self。当前，sit()和roll_over()所作的有限，只是打印一条消息。指出小狗正蹲下和打滚。\n",
    "若这个类包含在一个计算机游戏当中，这些方法将包含创建小狗蹲下和打滚动画效果的代码。若这些类是用于控制机器狗的，那么这些方法将引导机器狗做出蹲下和打滚的动作。\n"
   ]
  },
  {
   "cell_type": "markdown",
   "metadata": {},
   "source": [
    "## 根据类创建实例 "
   ]
  },
  {
   "cell_type": "code",
   "execution_count": 4,
   "metadata": {},
   "outputs": [
    {
     "name": "stdout",
     "output_type": "stream",
     "text": [
      "My dog's name is While.\n",
      "My dog is 6 years old\n"
     ]
    }
   ],
   "source": [
    "class Dog():\n",
    "    \"\"\"一次模拟小狗的简单尝试\"\"\"\n",
    "    def __init__(self,name,age):\n",
    "        \"\"\"初始化属性name和age\"\"\"\n",
    "        self.name = name\n",
    "        self.age = age\n",
    "    def sit(self):\n",
    "        \"\"\"模拟小狗被命令时蹲下\"\"\"\n",
    "        print(self.name.title() + \", is now sitting.\")\n",
    "    def roll_over(self):\n",
    "        \"\"\"模拟小狗被命令时打滚\"\"\"\n",
    "        print(self.name.title() + \"rolled over!\")\n",
    "        \n",
    "my_dog = Dog('while',6)\n",
    "print(\"My dog's name is \" + my_dog.name.title()+ \".\")\n",
    "print(\"My dog is \" + str(my_dog.age) + \" years old\")"
   ]
  },
  {
   "cell_type": "code",
   "execution_count": null,
   "metadata": {},
   "outputs": [],
   "source": [
    "方法 __init__()并没有显示包含return语句，但是Python会自动返回一个表示这条小狗的实例。\n",
    "\n",
    "我们把这个实例存储在变量my_dog中。\n",
    "\n",
    "通常可以认为首字母大写的名称，如Dog指的是类，而小写的名称，如my_dog指的根据类创建的实例。"
   ]
  },
  {
   "cell_type": "code",
   "execution_count": 5,
   "metadata": {},
   "outputs": [
    {
     "name": "stdout",
     "output_type": "stream",
     "text": [
      "My dog's name is While.\n",
      "My dog is 6 years old\n",
      "While, is now sitting.\n",
      "Whilerolled over!\n"
     ]
    }
   ],
   "source": [
    "class Dog():\n",
    "    \"\"\"一次模拟小狗的简单尝试\"\"\"\n",
    "    def __init__(self,name,age):\n",
    "        \"\"\"初始化属性name和age\"\"\"\n",
    "        self.name = name\n",
    "        self.age = age\n",
    "    def sit(self):\n",
    "        \"\"\"模拟小狗被命令时蹲下\"\"\"\n",
    "        print(self.name.title() + \", is now sitting.\")\n",
    "    def roll_over(self):\n",
    "        \"\"\"模拟小狗被命令时打滚\"\"\"\n",
    "        print(self.name.title() + \"rolled over!\")\n",
    "        \n",
    "my_dog = Dog('while',6)\n",
    "print(\"My dog's name is \" + my_dog.name.title()+ \".\")\n",
    "print(\"My dog is \" + str(my_dog.age) + \" years old\")\n",
    "my_dog.sit()\n",
    "my_dog.roll_over()"
   ]
  },
  {
   "cell_type": "markdown",
   "metadata": {},
   "source": [
    "## 访问属性\n",
    "\n",
    "如果要访问实例的属性，可以使用句点表示法。\n",
    "\n",
    "如，my_dog.name\n",
    "\n",
    "句点表示法演示了Python将如何获悉属性的值。Python先找实例my_dog,再查找和这个实例相关联属性name。\n",
    "\n",
    "当我们在Dog类中来引用这个属性时，使用的是self.name.在第十五行diamagnetic处，使用同样的方法来获取属性age的值。第十五行print\n",
    "\n",
    "语句中，str(my_dog.age)将my_dog的属性age的值6转换为字符串。"
   ]
  },
  {
   "cell_type": "markdown",
   "metadata": {},
   "source": [
    "若给属性和方法指定了合适的描述性名称，如name、age、sit（）和roll_over()，即便是从未见过的代码块，也能轻松推断出它是做什么的。\n"
   ]
  },
  {
   "cell_type": "markdown",
   "metadata": {},
   "source": [
    "## 创建多个实例 "
   ]
  },
  {
   "cell_type": "code",
   "execution_count": null,
   "metadata": {},
   "outputs": [],
   "source": [
    "我们可以按照需求根据类创建任意数量的实例。下面我们来创建一个名为your_dog的实例："
   ]
  },
  {
   "cell_type": "code",
   "execution_count": 8,
   "metadata": {},
   "outputs": [
    {
     "name": "stdout",
     "output_type": "stream",
     "text": [
      "My dog's name is While.\n",
      "My dog is 6 years old\n",
      "While, is now sitting.\n",
      "\n",
      " Your dog's name is While.\n",
      "Your dog is 6 years old\n",
      "Lucy, is now sitting.\n"
     ]
    }
   ],
   "source": [
    "class Dog():\n",
    "    \"\"\"一次模拟小狗的简单尝试\"\"\"\n",
    "    def __init__(self,name,age):\n",
    "        \"\"\"初始化属性name和age\"\"\"\n",
    "        self.name = name\n",
    "        self.age = age\n",
    "    def sit(self):\n",
    "        \"\"\"模拟小狗被命令时蹲下\"\"\"\n",
    "        print(self.name.title() + \", is now sitting.\")\n",
    "    def roll_over(self):\n",
    "        \"\"\"模拟小狗被命令时打滚\"\"\"\n",
    "        print(self.name.title() + \"rolled over!\")\n",
    "        \n",
    "my_dog = Dog('while',6)\n",
    "your_dog = Dog('lucy',3)\n",
    "\n",
    "print(\"My dog's name is \" + my_dog.name.title()+ \".\")\n",
    "print(\"My dog is \" + str(my_dog.age) + \" years old\")\n",
    "my_dog.sit()\n",
    "\n",
    "print(\"\\n Your dog's name is \" + my_dog.name.title()+ \".\")\n",
    "print(\"Your dog is \" + str(my_dog.age) + \" years old\")\n",
    "your_dog.sit()"
   ]
  },
  {
   "cell_type": "markdown",
   "metadata": {},
   "source": [
    "## 使用类和实例 "
   ]
  },
  {
   "cell_type": "markdown",
   "metadata": {},
   "source": [
    "我们可以根据类来模拟现实世界中的很多情景。类编写好后，我们大部分时间都花在使用根据类创建的实例上。\n",
    "\n",
    "需要执行的一个重要任务是修改实例的属性。\n",
    "我们可以直接修改实例的属性，也可以编写方法以特定的方法进行修改\n"
   ]
  },
  {
   "cell_type": "markdown",
   "metadata": {},
   "source": [
    "——Car 类\n",
    "\n",
    "下面来编写一个表示汽车的类，它存储了有关汽车的信息，还有一个汇总这些信息的方法：\n"
   ]
  },
  {
   "cell_type": "code",
   "execution_count": 10,
   "metadata": {},
   "outputs": [
    {
     "name": "stdout",
     "output_type": "stream",
     "text": [
      "2016.Audi.A4\n"
     ]
    }
   ],
   "source": [
    "class Car():\n",
    "    \"\"\"一次模拟汽车的简单尝试\"\"\"\n",
    "    def __init__(self,make,model,year):\n",
    "        \"\"\"初始化描述汽车的属性\"\"\"\n",
    "        self.make = make\n",
    "        self.model = model\n",
    "        self.year = year\n",
    "    def get_descriptive_name(self):\n",
    "        \"\"\"返回整洁的描述性信息\"\"\"\n",
    "        long_name =str(self.year) + \".\" + self.make + \".\" + self.model\n",
    "        return long_name.title()\n",
    "\n",
    "my_new_car = Car('audi','a4',2016)\n",
    "print(my_new_car.get_descriptive_name())"
   ]
  },
  {
   "cell_type": "markdown",
   "metadata": {},
   "source": [
    "## 给属性指定默认值\n",
    "\n",
    "类中的每个熟悉都必须有初始值，哪怕这个值是0或空字符串。\n",
    "\n",
    "在有些情况下，如设置默认值时，在方法 __init__()内指定这种初始值是可行的；如果对某个属性值这样做了，就无需包含为它提供初始值的形参。\n",
    "\n",
    "下面来添加一个名为odometer_reading的属性，其初始值总是为0.我们还添加一个名为read_odometee()的方法，用于读取汽车的里程表\n",
    "\n"
   ]
  },
  {
   "cell_type": "code",
   "execution_count": 13,
   "metadata": {},
   "outputs": [
    {
     "name": "stdout",
     "output_type": "stream",
     "text": [
      "2016.Audi.A4\n",
      "This car has 0 miles on it\n"
     ]
    }
   ],
   "source": [
    "class Car():\n",
    "    \"\"\"一次模拟汽车的简单尝试\"\"\"\n",
    "    def __init__(self,make,model,year):\n",
    "        \"\"\"初始化描述汽车的属性\"\"\"\n",
    "        self.make = make\n",
    "        self.model = model\n",
    "        self.year = year\n",
    "        self.odometer_reading = 0\n",
    "    def get_descriptive_name(self):\n",
    "        \"\"\"返回整洁的描述性信息\"\"\"\n",
    "        long_name =str(self.year) + \".\" + self.make + \".\" + self.model\n",
    "        return long_name.title()\n",
    "    def read_odometer(self):\n",
    "        \"\"\"打印一条指出汽车里程的消息\"\"\"\n",
    "        print(\"This car has \" + str(self.odometer_reading) + \" miles on it\")\n",
    "\n",
    "my_new_car = Car('audi','a4',2016)\n",
    "print(my_new_car.get_descriptive_name())\n",
    "my_new_car.read_odometer()"
   ]
  },
  {
   "cell_type": "code",
   "execution_count": null,
   "metadata": {},
   "outputs": [],
   "source": []
  }
 ],
 "metadata": {
  "kernelspec": {
   "display_name": "Python 3",
   "language": "python",
   "name": "python3"
  },
  "language_info": {
   "codemirror_mode": {
    "name": "ipython",
    "version": 3
   },
   "file_extension": ".py",
   "mimetype": "text/x-python",
   "name": "python",
   "nbconvert_exporter": "python",
   "pygments_lexer": "ipython3",
   "version": "3.8.3"
  }
 },
 "nbformat": 4,
 "nbformat_minor": 4
}
