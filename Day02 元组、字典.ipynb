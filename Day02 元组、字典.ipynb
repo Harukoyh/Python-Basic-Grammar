{
 "cells": [
  {
   "cell_type": "markdown",
   "metadata": {},
   "source": [
    "# Day02 元组、字典"
   ]
  },
  {
   "cell_type": "markdown",
   "metadata": {},
   "source": [
    "## 元组\n",
    "\n",
    "相比于列表，元组是更简单的数据结构。如果需要存储的一组值在程序的整个生命周期内都不变，可使用元组\n",
    "\n",
    "定义元组后，可以 使用索引来访问期元素，就像访问列表一样"
   ]
  },
  {
   "cell_type": "code",
   "execution_count": 1,
   "metadata": {},
   "outputs": [
    {
     "name": "stdout",
     "output_type": "stream",
     "text": [
      "200\n",
      "50\n"
     ]
    }
   ],
   "source": [
    "dimensions =(200,50)\n",
    "print(dimensions[0])\n",
    "print(dimensions[1])"
   ]
  },
  {
   "cell_type": "markdown",
   "metadata": {},
   "source": [
    "遍历元组中的所有值，for函数"
   ]
  },
  {
   "cell_type": "code",
   "execution_count": 2,
   "metadata": {},
   "outputs": [
    {
     "name": "stdout",
     "output_type": "stream",
     "text": [
      "200\n",
      "50\n"
     ]
    }
   ],
   "source": [
    "dimensions =(200,50)\n",
    "for dimension in dimensions:\n",
    "    print(dimension)"
   ]
  },
  {
   "cell_type": "markdown",
   "metadata": {},
   "source": [
    "修改元组变量\n",
    "\n",
    "虽然不能修改元组的元素，但可以给存储元组的变量赋值\n"
   ]
  },
  {
   "cell_type": "code",
   "execution_count": 3,
   "metadata": {},
   "outputs": [
    {
     "name": "stdout",
     "output_type": "stream",
     "text": [
      "Original dimension:\n",
      "200\n",
      "50\n",
      "\n",
      "Modified dimension:\n",
      "400\n",
      "100\n"
     ]
    }
   ],
   "source": [
    "dimensions =(200,50)\n",
    "print(\"Original dimension:\")\n",
    "for dimension in dimensions:\n",
    "    print(dimension)\n",
    "dimensions =(400,100)\n",
    "print(\"\\nModified dimension:\")\n",
    "for dimension in dimensions:\n",
    "    print(dimension)"
   ]
  },
  {
   "cell_type": "markdown",
   "metadata": {},
   "source": [
    "# 字典"
   ]
  },
  {
   "cell_type": "markdown",
   "metadata": {},
   "source": [
    "在python中，字典是一系列键-值对。每个键都与一个值相关联，可以使用键访问与之相关联的值。可将任何Python对象用作字典中的值。例如数字、字符串、列表乃至字典。\n",
    "\n",
    "在python中，字典用放在花括号{}中的一系列键-值对表示\n",
    "键和值之间用冒号分隔，而键-值对之间用逗号分隔。\n"
   ]
  },
  {
   "cell_type": "code",
   "execution_count": 4,
   "metadata": {},
   "outputs": [
    {
     "name": "stdout",
     "output_type": "stream",
     "text": [
      "green\n",
      "5\n"
     ]
    }
   ],
   "source": [
    "alien_0 = {'color':'green','points':5}\n",
    "print(alien_0['color'])\n",
    "print(alien_0['points'])"
   ]
  },
  {
   "cell_type": "code",
   "execution_count": 13,
   "metadata": {},
   "outputs": [
    {
     "name": "stdout",
     "output_type": "stream",
     "text": [
      "you just earned 5 points!\n"
     ]
    }
   ],
   "source": [
    "alien_0 = {'color':'green','points':5}\n",
    "new_points = alien_0['points']\n",
    "print('you just earned '+ str(new_points)+' points!')"
   ]
  },
  {
   "cell_type": "markdown",
   "metadata": {},
   "source": [
    "## 添加键-值对 "
   ]
  },
  {
   "cell_type": "code",
   "execution_count": 15,
   "metadata": {},
   "outputs": [
    {
     "name": "stdout",
     "output_type": "stream",
     "text": [
      "{'color': 'green', 'points': 5}\n",
      "{'color': 'green', 'points': 5, 'x_position': 0, 'y_position': 25}\n"
     ]
    }
   ],
   "source": [
    "alien_0 = {'color':'green','points':5}\n",
    "print(alien_0)\n",
    "alien_0['x_position'] = 0\n",
    "alien_0['y_position'] = 25\n",
    "print(alien_0)"
   ]
  },
  {
   "cell_type": "code",
   "execution_count": 16,
   "metadata": {},
   "outputs": [
    {
     "name": "stdout",
     "output_type": "stream",
     "text": [
      "{'color': 'green', 'points': 5}\n"
     ]
    }
   ],
   "source": [
    "alien_0 = {}\n",
    "alien_0['color'] = 'green'\n",
    "alien_0['points'] = 5\n",
    "print(alien_0)"
   ]
  },
  {
   "cell_type": "markdown",
   "metadata": {},
   "source": [
    "## 修改字典中的值"
   ]
  },
  {
   "cell_type": "code",
   "execution_count": 19,
   "metadata": {},
   "outputs": [
    {
     "name": "stdout",
     "output_type": "stream",
     "text": [
      "The alien isgreen.\n",
      "The alien is now yellow.\n"
     ]
    }
   ],
   "source": [
    "alien_0 = {'color':'green'}\n",
    "print('The alien is' + alien_0['color'] + '.')\n",
    "alien_0['color'] = 'yellow'\n",
    "print('The alien is now ' + alien_0['color'] + \".\")"
   ]
  },
  {
   "cell_type": "code",
   "execution_count": 22,
   "metadata": {},
   "outputs": [
    {
     "name": "stdout",
     "output_type": "stream",
     "text": [
      "Original x_position: 0\n",
      "New x_position: 2\n"
     ]
    }
   ],
   "source": [
    "alien_0 = {'x_position':0,'y_position':25,'speed':'medium'}\n",
    "print('Original x_position: ' + str(alien_0['x_position']))\n",
    "\n",
    "#向右移动外星人\n",
    "#根据外星人当前速度决定将其移动多远\n",
    "if alien_0['speed'] == \"slow\":\n",
    "    x_increment = 1\n",
    "elif alien_0['speed'] == 'medium':\n",
    "    x_increment = 2\n",
    "else:\n",
    "    #这个外星人的速度一定很快\n",
    "    x_increment = 3\n",
    "    \n",
    "#新位置等于老位置加上增量\n",
    "alien_0['x_position'] = alien_0['x_position'] +x_increment\n",
    "print('New x_position: ' + str(alien_0['x_position']))"
   ]
  },
  {
   "cell_type": "markdown",
   "metadata": {},
   "source": [
    "## 删除键值对"
   ]
  },
  {
   "cell_type": "code",
   "execution_count": 23,
   "metadata": {},
   "outputs": [
    {
     "name": "stdout",
     "output_type": "stream",
     "text": [
      "{'color': 'green', 'points': 5}\n",
      "{'color': 'green'}\n"
     ]
    }
   ],
   "source": [
    "alien_0 = {'color':'green','points':5}\n",
    "print(alien_0)\n",
    "del alien_0['points']\n",
    "print(alien_0)"
   ]
  },
  {
   "cell_type": "markdown",
   "metadata": {},
   "source": [
    "## 由类似对象组成的字典 "
   ]
  },
  {
   "cell_type": "code",
   "execution_count": 28,
   "metadata": {},
   "outputs": [
    {
     "name": "stdout",
     "output_type": "stream",
     "text": [
      "Sarah's favorite language is C.\n"
     ]
    }
   ],
   "source": [
    "favorite_languages = {\n",
    "    'jen' : 'python',\n",
    "    'sarch': 'c',\n",
    "    'edward' :'ruby',\n",
    "    'phil' : 'python'\n",
    "}\n",
    "\n",
    "print(\"Sarah's favorite language is \" +\n",
    "     favorite_languages['sarch'].title()+\".\")"
   ]
  },
  {
   "cell_type": "markdown",
   "metadata": {},
   "source": [
    "## 遍历字典 "
   ]
  },
  {
   "cell_type": "code",
   "execution_count": 31,
   "metadata": {},
   "outputs": [
    {
     "name": "stdout",
     "output_type": "stream",
     "text": [
      "\n",
      "Key: username\n",
      "Value: efermi\n",
      "\n",
      "Key: first\n",
      "Value: enrico\n",
      "\n",
      "Key: last\n",
      "Value: fermi\n"
     ]
    }
   ],
   "source": [
    "user_0 = {\n",
    "    'username': 'efermi',\n",
    "    'first':'enrico',\n",
    "    'last':'fermi',\n",
    "}\n",
    "\n",
    "for key, value in user_0.items():\n",
    "    print('\\nKey: ' + key)\n",
    "    print('Value: '+value)"
   ]
  },
  {
   "cell_type": "code",
   "execution_count": 41,
   "metadata": {},
   "outputs": [
    {
     "name": "stdout",
     "output_type": "stream",
     "text": [
      "Jen's favorite language isPython.\n",
      "Sarah's favorite language isC.\n",
      "Edward's favorite language isRuby.\n",
      "Phil's favorite language isPython.\n"
     ]
    }
   ],
   "source": [
    "favorite_languages = {\n",
    "    'jen':'python',\n",
    "    'sarah':'c',\n",
    "    'edward':'ruby',\n",
    "    'phil':'python',\n",
    "    }\n",
    "for name,language in favorite_languages.items():\n",
    "    print(name.title() + \"'s favorite language is\" + language.title() + '.')"
   ]
  },
  {
   "cell_type": "code",
   "execution_count": 43,
   "metadata": {},
   "outputs": [
    {
     "name": "stdout",
     "output_type": "stream",
     "text": [
      "Jen\n",
      "Sarah\n",
      "Edward\n",
      "Phil\n"
     ]
    }
   ],
   "source": [
    "favorite_languages = {\n",
    "    'jen':'python',\n",
    "    'sarah':'c',\n",
    "    'edward':'ruby',\n",
    "    'phil':'python',\n",
    "    }\n",
    "for name in favorite_languages.keys():\n",
    "    print(name.title())"
   ]
  },
  {
   "cell_type": "code",
   "execution_count": 46,
   "metadata": {},
   "outputs": [
    {
     "name": "stdout",
     "output_type": "stream",
     "text": [
      "Jen\n",
      "Sarah\n",
      " HiSarah,I see your favorite language isC!\n",
      "Edward\n",
      "Phil\n",
      " HiPhil,I see your favorite language isPython!\n"
     ]
    }
   ],
   "source": [
    "favorite_languages = {\n",
    "    'jen':'python',\n",
    "    'sarah':'c',\n",
    "    'edward':'ruby',\n",
    "    'phil':'python'\n",
    "    }\n",
    "friends = ['phil','sarah']\n",
    "for name in favorite_languages.keys():\n",
    "    print(name.title())\n",
    "    if name in friends:\n",
    "        print(\" Hi\" + name.title() +\",I see your favorite language is\" + favorite_languages[name].title() + \"!\")"
   ]
  },
  {
   "cell_type": "markdown",
   "metadata": {},
   "source": [
    "### 按顺序遍历字典中的所有键 "
   ]
  },
  {
   "cell_type": "code",
   "execution_count": 49,
   "metadata": {},
   "outputs": [
    {
     "name": "stdout",
     "output_type": "stream",
     "text": [
      "Edward,  thank you for taking the poll\n",
      "Jen,  thank you for taking the poll\n",
      "Phil,  thank you for taking the poll\n",
      "Saeah,  thank you for taking the poll\n"
     ]
    }
   ],
   "source": [
    "favorite_languages = {\n",
    "    'jen':'python',\n",
    "    'saeah':'c',\n",
    "    'edward':'ruby',\n",
    "    'phil':'python'\n",
    "    \n",
    "    }\n",
    "for name in sorted(favorite_languages.keys()):\n",
    "    print(name.title() + \",  thank you for taking the poll\")\n"
   ]
  },
  {
   "cell_type": "code",
   "execution_count": 50,
   "metadata": {},
   "outputs": [
    {
     "name": "stdout",
     "output_type": "stream",
     "text": [
      "The following languages have been mentioned:\n",
      "Python\n",
      "C\n",
      "Ruby\n",
      "Python\n"
     ]
    }
   ],
   "source": [
    "favorite_languages = {\n",
    "    'jen':'python',\n",
    "    'sarah':'c',\n",
    "    'edward':'ruby',\n",
    "    'phil':'python'\n",
    "    }\n",
    "print('The following languages have been mentioned:')\n",
    "for language in favorite_languages.values():\n",
    "    print(language.title())"
   ]
  },
  {
   "cell_type": "code",
   "execution_count": 51,
   "metadata": {},
   "outputs": [
    {
     "name": "stdout",
     "output_type": "stream",
     "text": [
      "The following languages have been mentioned:\n",
      "Python\n",
      "Ruby\n",
      "C\n"
     ]
    }
   ],
   "source": [
    "favorite_languages = {\n",
    "    'jen':'python',\n",
    "    'sarah':'c',\n",
    "    'edward':'ruby',\n",
    "    'phil':'python'\n",
    "    }\n",
    "print('The following languages have been mentioned:')\n",
    "for language in set(favorite_languages.values()):\n",
    "    print(language.title())"
   ]
  },
  {
   "cell_type": "markdown",
   "metadata": {},
   "source": [
    "## 字典列表嵌套 "
   ]
  },
  {
   "cell_type": "code",
   "execution_count": 52,
   "metadata": {},
   "outputs": [
    {
     "name": "stdout",
     "output_type": "stream",
     "text": [
      "{'color': 'green', 'points': 5}\n",
      "{'color': 'yellow', 'points': 10}\n",
      "{'color': 'red', 'points': 15}\n"
     ]
    }
   ],
   "source": [
    "alien_0 = {'color':'green','points':5}\n",
    "alien_1 = {'color':'yellow','points':10}\n",
    "alien_2 = {'color':'red','points':15}\n",
    "aliens = [alien_0,alien_1,alien_2]\n",
    "for alien in aliens:\n",
    "    print(alien)"
   ]
  },
  {
   "cell_type": "code",
   "execution_count": 58,
   "metadata": {},
   "outputs": [
    {
     "name": "stdout",
     "output_type": "stream",
     "text": [
      "{'color': 'green', 'points': 5, 'speed': 'slow'}\n",
      "{'color': 'green', 'points': 5, 'speed': 'slow'}\n",
      "{'color': 'green', 'points': 5, 'speed': 'slow'}\n",
      "{'color': 'green', 'points': 5, 'speed': 'slow'}\n",
      "{'color': 'green', 'points': 5, 'speed': 'slow'}\n",
      "...\n",
      "Total number of aliens:30\n"
     ]
    }
   ],
   "source": [
    "# 创建一个用于存储外星人的空列表\n",
    "aliens = []\n",
    "#创建30个绿色外星人\n",
    "for alien_number in range(30):\n",
    "    new_alien = {\"color\":'green','points':5 ,'speed':'slow'}\n",
    "    aliens.append(new_alien)\n",
    "# 显示前五个外星人\n",
    "for alien in aliens[:5]:\n",
    "    print(alien)\n",
    "print(\"...\")\n",
    "#显示创建了多少个外星人\n",
    "print(\"Total number of aliens:\" + str(len(aliens)))"
   ]
  },
  {
   "cell_type": "code",
   "execution_count": 64,
   "metadata": {},
   "outputs": [
    {
     "name": "stdout",
     "output_type": "stream",
     "text": [
      "{'color': 'yellow', 'points': 10, 'speed': 'medium'}\n",
      "{'color': 'yellow', 'points': 10, 'speed': 'medium'}\n",
      "{'color': 'yellow', 'points': 10, 'speed': 'medium'}\n",
      "{'color': 'green', 'points': 5, 'speed': 'slow'}\n",
      "{'color': 'green', 'points': 5, 'speed': 'slow'}\n",
      "{'color': 'green', 'points': 5, 'speed': 'slow'}\n",
      "{'color': 'green', 'points': 5, 'speed': 'slow'}\n",
      "{'color': 'green', 'points': 5, 'speed': 'slow'}\n",
      "....\n"
     ]
    }
   ],
   "source": [
    "# 创建一个用于存储外星人的空列表\n",
    "\n",
    "aliens = []\n",
    "# 创建30个绿色外星人\n",
    "\n",
    "for alien_number in range(0,30):\n",
    "    new_alien = {'color':'green','points':5,'speed':'slow'}\n",
    "    aliens.append(new_alien)\n",
    "for alien in aliens[0:3]:\n",
    "    if alien['color']=='green':\n",
    "        alien['color']='yellow'\n",
    "        alien['speed']='medium'\n",
    "        alien['points']=10\n",
    "        \n",
    "# 显示前五个外星人\n",
    "for alien in aliens[:8]:\n",
    "    print(alien)\n",
    "print(\"....\")\n",
    "    \n"
   ]
  },
  {
   "cell_type": "code",
   "execution_count": 67,
   "metadata": {},
   "outputs": [
    {
     "name": "stdout",
     "output_type": "stream",
     "text": [
      "you ordered athick-crust pizzawith the following topping:\n",
      "\tmushrooms\n",
      "\textra cheese\n"
     ]
    }
   ],
   "source": [
    "pizza = {\n",
    "    'crust':'thick',\n",
    "    'toppings':['mushrooms','extra cheese'],\n",
    "    }\n",
    "\n",
    "#概述所点的披萨\n",
    "print(\"you ordered a\" + pizza['crust']+ '-crust pizza' + 'with the following topping:')\n",
    "for topping in pizza['toppings']:\n",
    "      print(\"\\t\" +topping)"
   ]
  },
  {
   "cell_type": "code",
   "execution_count": 70,
   "metadata": {},
   "outputs": [
    {
     "name": "stdout",
     "output_type": "stream",
     "text": [
      "\n",
      "Jen's favorite languages are:\n",
      "\tPython\n",
      "\tRuby\n",
      "\n",
      "Sarah's favorite languages are:\n",
      "\tC\n",
      "\n",
      "Edward's favorite languages are:\n",
      "\tRuby\n",
      "\tGo\n",
      "\n",
      "Phil's favorite languages are:\n",
      "\tPython\n",
      "\tHaskell\n"
     ]
    }
   ],
   "source": [
    "favorite_languages = {\n",
    "    'jen':['python','ruby'],\n",
    "    'sarah':['c'],\n",
    "    'edward':['ruby','go'],\n",
    "    'phil':['python','haskell'],\n",
    "    }\n",
    "for name,languages in favorite_languages.items():\n",
    "    print('\\n'+ name.title()+\"'s favorite languages are:\")\n",
    "    for language in languages:\n",
    "        print(\"\\t\" + language.title())"
   ]
  },
  {
   "cell_type": "markdown",
   "metadata": {},
   "source": [
    "### 在字典中存储字典 "
   ]
  },
  {
   "cell_type": "code",
   "execution_count": 73,
   "metadata": {},
   "outputs": [
    {
     "name": "stdout",
     "output_type": "stream",
     "text": [
      "\n",
      "Username:aeinstein\n",
      "\tFull name:Albert Einstein\n",
      "\tLocation:Princeton\n",
      "\n",
      "Username:mcurie\n",
      "\tFull name:Marie Curie\n",
      "\tLocation:Paris\n"
     ]
    }
   ],
   "source": [
    "users = {\n",
    "    'aeinstein':{\n",
    "        'first':'albert',\n",
    "        'last':'einstein',\n",
    "        'location':'princeton',\n",
    "        },\n",
    "    'mcurie':{\n",
    "        'first':'marie',\n",
    "        'last':'curie',\n",
    "        'location':'paris'\n",
    "        },\n",
    "    }\n",
    "for username,user_info in users.items():\n",
    "    print(\"\\nUsername:\" + username)\n",
    "    full_name = user_info['first'] + \" \" + user_info['last']\n",
    "    location = user_info['location']\n",
    "    print(\"\\tFull name:\" + full_name.title())\n",
    "    print(\"\\tLocation:\" + location.title())"
   ]
  },
  {
   "cell_type": "code",
   "execution_count": null,
   "metadata": {},
   "outputs": [],
   "source": []
  },
  {
   "cell_type": "code",
   "execution_count": null,
   "metadata": {},
   "outputs": [],
   "source": []
  }
 ],
 "metadata": {
  "kernelspec": {
   "display_name": "Python 3",
   "language": "python",
   "name": "python3"
  },
  "language_info": {
   "codemirror_mode": {
    "name": "ipython",
    "version": 3
   },
   "file_extension": ".py",
   "mimetype": "text/x-python",
   "name": "python",
   "nbconvert_exporter": "python",
   "pygments_lexer": "ipython3",
   "version": "3.8.3"
  }
 },
 "nbformat": 4,
 "nbformat_minor": 4
}
