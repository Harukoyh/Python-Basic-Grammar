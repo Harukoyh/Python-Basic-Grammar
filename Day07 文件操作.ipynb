{
 "cells": [
  {
   "cell_type": "markdown",
   "metadata": {},
   "source": [
    "# 文件"
   ]
  },
  {
   "cell_type": "markdown",
   "metadata": {},
   "source": [
    "文件是长久保存信息并允许重复使用和反复修改的重要方式，同时也是信息交换的重要途经。数据库文件、图像文件、音频和视频文件、可执行文件、可执行文件、office文档、动态链接库文件等，都以文件的形式存储在不同形式的存储设备里。把文件中数据的组织形式分文本文件和二进制文件：二者区别不做太多概述。\n",
    "\n",
    "二进制文件是把内存中的数据按其在内存中的存储形式原样输出到硬盘上存放，也就是说存放的是数据的原形式；\n",
    "\n",
    "文本文件是把数据的终端形式的二进制数据输出到磁盘上存放，也就是说存放的是数据的终端形式。\n"
   ]
  },
  {
   "cell_type": "markdown",
   "metadata": {},
   "source": [
    "# 文件对象常用方法"
   ]
  },
  {
   "cell_type": "markdown",
   "metadata": {},
   "source": [
    "## 1. 文件读取 "
   ]
  },
  {
   "cell_type": "code",
   "execution_count": null,
   "metadata": {},
   "outputs": [],
   "source": [
    "FileRead = open(\"test.txt\",'r')\n",
    "FileRead.read() # 读取文件所有内容，使用print(FileRead.read())函数输出文件内容\n",
    "FileRead.close()\n",
    "\n",
    "# 用OPEN可以打开文件，还有其他方式，这里呢就不一一列举了。读者可以自行查阅文献！\n"
   ]
  },
  {
   "cell_type": "markdown",
   "metadata": {},
   "source": [
    "## 2.文件循环读取行操作 "
   ]
  },
  {
   "cell_type": "code",
   "execution_count": null,
   "metadata": {},
   "outputs": [],
   "source": [
    "FileRead = open(\"test.txt\",'r')\n",
    "print(FileRead.readline().strip('\\n')) #读取第一行数据\n",
    "print(FileRead.readline().strip('\\n')) #读取第二行数据\n",
    "FileRead.close()\n",
    "\n",
    "## 使用seek(0)将文件读取的行位置标记到指定的位置"
   ]
  },
  {
   "cell_type": "markdown",
   "metadata": {},
   "source": [
    "## 3.获取python在文件中的当前位置"
   ]
  },
  {
   "cell_type": "code",
   "execution_count": null,
   "metadata": {},
   "outputs": [],
   "source": [
    "FileRead = open(\"test.txt\",'r')\n",
    "\n",
    "print(FileRead.readline().strip('\\n')) #读取第一行数据\n",
    "\n",
    "print(FileRead.tell())  #获取Python所在文件中的当前位置\n",
    "\n",
    "print(FileRead.readline().strip('\\n')) #读取第二行数据\n",
    "FileRead.close()\n"
   ]
  },
  {
   "cell_type": "markdown",
   "metadata": {},
   "source": [
    "## 4.文件写操作"
   ]
  },
  {
   "cell_type": "code",
   "execution_count": null,
   "metadata": {},
   "outputs": [],
   "source": [
    "FileRead = open(\"test.txt\",'w')\n",
    "\n",
    "# w-是指文件将被写入数据，已有的数据将会被清空\n",
    "\n",
    "FileRead.write('Welcome To XiJing Statistics!')\n",
    "FileRead.close()\n",
    "#关闭文件句柄，每次读写文件应该在最后面将文件关闭"
   ]
  },
  {
   "cell_type": "markdown",
   "metadata": {},
   "source": [
    "## 5.文件追加等操作 "
   ]
  },
  {
   "cell_type": "code",
   "execution_count": null,
   "metadata": {},
   "outputs": [],
   "source": [
    "FileRead = open(\"test.txt\",'a')\n",
    "# 'a'--是指文件将被写入数据，已有的数据不会被清空，在已有数据后追加下面要添加的数据\n",
    "\n",
    "FileRead.write('Welcome To Xi'An!\")\n",
    "FileRead.close()"
   ]
  },
  {
   "cell_type": "code",
   "execution_count": null,
   "metadata": {},
   "outputs": [],
   "source": []
  },
  {
   "cell_type": "markdown",
   "metadata": {},
   "source": [
    "# 从现有文件获取数据 "
   ]
  },
  {
   "cell_type": "markdown",
   "metadata": {},
   "source": [
    "Python怎么操作Excel文件。Python有专门的库为Excel文件的操作提供支持，这些库包括xlrd、xlwt、xlutils、openpyxl、xlsxwriter几种，其中openpyxl是本次讲解的主要内容。\n",
    "\n",
    "以下如示例："
   ]
  },
  {
   "cell_type": "code",
   "execution_count": null,
   "metadata": {},
   "outputs": [],
   "source": [
    "from openpyxl import load_workbook\n",
    "\n",
    "excel= load_workbook('E:\\CET.xlsx')\n",
    "#获取sheet:\n",
    "table= excel.get_sheet_by_name('Sheet1')\n",
    "\n",
    "#通过表名获取\n",
    "\n",
    "#获取行数和列数\n",
    "rows=table.max_row\n",
    "#获取行数\n",
    "cols=table.max_column\n",
    "#获取列数\n",
    "\n",
    "#获取单元格值\n",
    "Data = table.cell(row=row,column=col).value\n",
    "#获取表格内容，是从第一行第一列从1开始的，注意不要丢掉 .value\n"
   ]
  }
 ],
 "metadata": {
  "kernelspec": {
   "display_name": "Python 3",
   "language": "python",
   "name": "python3"
  },
  "language_info": {
   "codemirror_mode": {
    "name": "ipython",
    "version": 3
   },
   "file_extension": ".py",
   "mimetype": "text/x-python",
   "name": "python",
   "nbconvert_exporter": "python",
   "pygments_lexer": "ipython3",
   "version": "3.8.3"
  }
 },
 "nbformat": 4,
 "nbformat_minor": 4
}
